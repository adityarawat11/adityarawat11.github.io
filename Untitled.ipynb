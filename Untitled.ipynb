{
 "cells": [
  {
   "cell_type": "code",
   "execution_count": 1,
   "id": "ad62fdf0-7932-424e-8be3-a33fbbae0b35",
   "metadata": {},
   "outputs": [
    {
     "name": "stdout",
     "output_type": "stream",
     "text": [
      "Making you a Rockstar Programmer\n",
      "\n",
      "You are now a Rockstar Programmer!\n"
     ]
    }
   ],
   "source": [
    "from rockstar import RockStar\n",
    "\n",
    "swift_code = \"print('Hello world')\"\n",
    "rock_it_bro = RockStar(days=100, file_name='hello.py', code=swift_code)\n",
    "rock_it_bro.make_me_a_rockstar()"
   ]
  },
  {
   "cell_type": "code",
   "execution_count": null,
   "id": "43bb42fc-092f-4668-ac1b-224cde8da606",
   "metadata": {},
   "outputs": [],
   "source": []
  }
 ],
 "metadata": {
  "kernelspec": {
   "display_name": "basicenv",
   "language": "python",
   "name": "basicenv"
  },
  "language_info": {
   "codemirror_mode": {
    "name": "ipython",
    "version": 3
   },
   "file_extension": ".py",
   "mimetype": "text/x-python",
   "name": "python",
   "nbconvert_exporter": "python",
   "pygments_lexer": "ipython3",
   "version": "3.9.15"
  }
 },
 "nbformat": 4,
 "nbformat_minor": 5
}
